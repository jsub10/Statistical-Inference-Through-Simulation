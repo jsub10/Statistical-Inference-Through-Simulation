{
 "cells": [
  {
   "cell_type": "markdown",
   "metadata": {},
   "source": [
    "# Think Like a Machine\n",
    "Course Outline\n",
    "=============="
   ]
  },
  {
   "cell_type": "markdown",
   "metadata": {},
   "source": [
    "## Chapter 1\n",
    "- The 7 steps to thinking like a machine\n",
    "\n",
    "## Chapter 2\n",
    "- Linear regression\n",
    "\n",
    "## Chapter 3\n",
    "- Multi-variable and non-linear regression\n",
    "\n",
    "## Chapter 4\n",
    "- Logistic regression\n",
    "\n",
    "## Chapter 5\n",
    "- Neural networks\n",
    "- Support Vector Machines?\n",
    "\n",
    "## Chapter 6\n",
    "* Evaluating and fine tuning machine learning models\n",
    "    * Bias and variance\n",
    "    * Precision and Recall\n",
    "    * Learning curves\n",
    "    * Error analysis\n",
    "    * Ceiling analysis\n",
    "\n",
    "## Chapter 7\n",
    "- K Means\n",
    "\n",
    "## Chapter 8\n",
    "- Principal Component Analysis and dimensionality reduction\n",
    "\n",
    "## Chapter 9\n",
    "- Anomaly detection\n",
    "\n",
    "## Chapter 10\n",
    "- Recommender systems\n",
    "\n",
    "## Chapter 11\n",
    "* Techniques for handling big data\n",
    "  * Stochastic gradient descent\n",
    "  * Mini-batch gradient descent\n",
    "  * Splitting up data for parallel processing\n",
    "  "
   ]
  },
  {
   "cell_type": "markdown",
   "metadata": {
    "collapsed": true
   },
   "source": [
    "# Statistical Inference\n",
    "Course Outline\n",
    "=============="
   ]
  },
  {
   "cell_type": "markdown",
   "metadata": {},
   "source": [
    "## Chapter 1\n",
    "- Coin tosses and probabilistic events\n",
    "\n",
    "## Chapter 2\n",
    "- From probability to statistical inference\n",
    "\n",
    "## Chapter 3\n",
    "- Roundup of key concepts in statistical inference\n",
    "    - Significance level\n",
    "    - Confidence level\n",
    "    - Confidence interval\n",
    "    \n",
    "## Chapter 4\n",
    "- Diagnostic tests\n",
    "    - Confusion matrix\n",
    "    - Beta\n",
    "    - Selectivity and specificity\n",
    "    - Statistical power\n",
    "    - Effect size\n",
    "    - Measuring success when incidence rates are low: precision and recall\n",
    "    - Practical Predictive Value (PPV)\n",
    "    \n",
    "## Chapter 5\n",
    "- Reading and understanding Ioannidis' article \"Why Most Published Research Findings are False\".\n",
    "\n",
    "## Chapter 6 \n",
    "- Application of concepts to polling design and results (random versus systematic error)\n",
    "- How to distinguish data reporting from data analysis (most reports just tell you the percentage of this or that - which is much less than what you really need to know)\n",
    "        \n",
    "    "
   ]
  },
  {
   "cell_type": "code",
   "execution_count": null,
   "metadata": {
    "collapsed": true
   },
   "outputs": [],
   "source": []
  }
 ],
 "metadata": {
  "anaconda-cloud": {},
  "kernelspec": {
   "display_name": "Python [conda root]",
   "language": "python",
   "name": "conda-root-py"
  },
  "language_info": {
   "codemirror_mode": {
    "name": "ipython",
    "version": 2
   },
   "file_extension": ".py",
   "mimetype": "text/x-python",
   "name": "python",
   "nbconvert_exporter": "python",
   "pygments_lexer": "ipython2",
   "version": "2.7.12"
  }
 },
 "nbformat": 4,
 "nbformat_minor": 1
}
